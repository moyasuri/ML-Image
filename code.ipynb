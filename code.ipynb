{
 "cells": [
  {
   "cell_type": "code",
   "execution_count": 1,
   "metadata": {},
   "outputs": [
    {
     "name": "stdout",
     "output_type": "stream",
     "text": [
      "로또 번호: [18, 45, 2, 16, 15, 23]\n"
     ]
    }
   ],
   "source": [
    "import random\n",
    "\n",
    "def generate_lotto_numbers():\n",
    "    # 1부터 45까지의 숫자 리스트 생성\n",
    "    numbers = list(range(1, 46))\n",
    "\n",
    "    # 무작위로 6개의 번호 뽑기 (중복 없이)\n",
    "    lotto_numbers = random.sample(numbers, 6)\n",
    "\n",
    "    return lotto_numbers\n",
    "\n",
    "# 로또 번호 생성\n",
    "result = generate_lotto_numbers()\n",
    "print(\"로또 번호:\", result)\n",
    "\n"
   ]
  },
  {
   "cell_type": "code",
   "execution_count": null,
   "metadata": {},
   "outputs": [],
   "source": [
    "# code directory\n",
    "import os\n",
    "\n",
    "# 현재 작업 디렉토리를 얻어오는 방법\n",
    "notebook_dir = os.getcwd()\n",
    "\n",
    "# 이미지 파일의 상대 경로 설정\n",
    "img_path = os.path.join(notebook_dir, 'img', 'mika.jpg')"
   ]
  },
  {
   "cell_type": "code",
   "execution_count": 15,
   "metadata": {},
   "outputs": [
    {
     "name": "stdout",
     "output_type": "stream",
     "text": [
      "4\n"
     ]
    }
   ],
   "source": [
    "N = int(input())\n",
    "\n",
    "if N ==1:\n",
    "    print(1)\n",
    "else :\n",
    "    k = 1\n",
    "    while True:\n",
    "        if N<=3*k*(k+1)+1:\n",
    "            break\n",
    "        k+=1\n",
    "    print(k+1)"
   ]
  },
  {
   "cell_type": "code",
   "execution_count": 67,
   "metadata": {},
   "outputs": [
    {
     "data": {
      "text/plain": [
       "[]"
      ]
     },
     "execution_count": 67,
     "metadata": {},
     "output_type": "execute_result"
    }
   ],
   "source": [
    "a=[1,2,3,4,5,6,7]\n",
    "\n",
    "a[:0:-1]"
   ]
  },
  {
   "cell_type": "code",
   "execution_count": 2,
   "metadata": {},
   "outputs": [
    {
     "name": "stdout",
     "output_type": "stream",
     "text": [
      "[1, 2, 3]\n"
     ]
    }
   ],
   "source": [
    "a=[1,2,3]\n",
    "\n",
    "def permu(n, r, depth):\n",
    "  if(r==depth):\n",
    "    print(a)\n",
    "    return True\n",
    "  i = depth\n",
    "  while (i<n):\n",
    "    a[i],a[depth] = a[depth], a[i]\n",
    "    permu(n,r,depth+1) \n",
    "    a[depth], a[i] = a[i],a[depth]\n",
    "    i+=1\n",
    "    return True\n",
    "  \n",
    "permu(3,3,0)\n",
    "\n",
    "    "
   ]
  }
 ],
 "metadata": {
  "kernelspec": {
   "display_name": "base",
   "language": "python",
   "name": "python3"
  },
  "language_info": {
   "codemirror_mode": {
    "name": "ipython",
    "version": 3
   },
   "file_extension": ".py",
   "mimetype": "text/x-python",
   "name": "python",
   "nbconvert_exporter": "python",
   "pygments_lexer": "ipython3",
   "version": "3.11.5"
  }
 },
 "nbformat": 4,
 "nbformat_minor": 2
}
