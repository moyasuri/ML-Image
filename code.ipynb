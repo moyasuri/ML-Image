{
 "cells": [
  {
   "cell_type": "code",
   "execution_count": 1,
   "metadata": {},
   "outputs": [
    {
     "name": "stdout",
     "output_type": "stream",
     "text": [
      "로또 번호: [18, 45, 2, 16, 15, 23]\n"
     ]
    }
   ],
   "source": [
    "import random\n",
    "\n",
    "def generate_lotto_numbers():\n",
    "    # 1부터 45까지의 숫자 리스트 생성\n",
    "    numbers = list(range(1, 46))\n",
    "\n",
    "    # 무작위로 6개의 번호 뽑기 (중복 없이)\n",
    "    lotto_numbers = random.sample(numbers, 6)\n",
    "\n",
    "    return lotto_numbers\n",
    "\n",
    "# 로또 번호 생성\n",
    "result = generate_lotto_numbers()\n",
    "print(\"로또 번호:\", result)\n",
    "\n"
   ]
  },
  {
   "cell_type": "code",
   "execution_count": null,
   "metadata": {},
   "outputs": [],
   "source": [
    "# code directory\n",
    "import os\n",
    "\n",
    "# 현재 작업 디렉토리를 얻어오는 방법\n",
    "notebook_dir = os.getcwd()\n",
    "\n",
    "# 이미지 파일의 상대 경로 설정\n",
    "img_path = os.path.join(notebook_dir, 'img', 'mika.jpg')"
   ]
  }
 ],
 "metadata": {
  "kernelspec": {
   "display_name": "base",
   "language": "python",
   "name": "python3"
  },
  "language_info": {
   "codemirror_mode": {
    "name": "ipython",
    "version": 3
   },
   "file_extension": ".py",
   "mimetype": "text/x-python",
   "name": "python",
   "nbconvert_exporter": "python",
   "pygments_lexer": "ipython3",
   "version": "3.11.5"
  }
 },
 "nbformat": 4,
 "nbformat_minor": 2
}
