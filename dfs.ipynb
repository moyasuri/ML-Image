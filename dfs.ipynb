{
 "cells": [
  {
   "cell_type": "code",
   "execution_count": 1,
   "metadata": {},
   "outputs": [
    {
     "name": "stdout",
     "output_type": "stream",
     "text": [
      "DFS traversal starting from node 1:\n",
      "1\n",
      "2\n",
      "4\n"
     ]
    },
    {
     "ename": "KeyError",
     "evalue": "4",
     "output_type": "error",
     "traceback": [
      "\u001b[1;31m---------------------------------------------------------------------------\u001b[0m",
      "\u001b[1;31mKeyError\u001b[0m                                  Traceback (most recent call last)",
      "\u001b[1;32ma:\\ML-image\\dfs.ipynb Cell 1\u001b[0m line \u001b[0;36m3\n\u001b[0;32m     <a href='vscode-notebook-cell:/a%3A/ML-image/dfs.ipynb#W0sZmlsZQ%3D%3D?line=28'>29</a>\u001b[0m \u001b[39m# DFS 시작\u001b[39;00m\n\u001b[0;32m     <a href='vscode-notebook-cell:/a%3A/ML-image/dfs.ipynb#W0sZmlsZQ%3D%3D?line=29'>30</a>\u001b[0m \u001b[39mprint\u001b[39m(\u001b[39m\"\u001b[39m\u001b[39mDFS traversal starting from node 1:\u001b[39m\u001b[39m\"\u001b[39m)\n\u001b[1;32m---> <a href='vscode-notebook-cell:/a%3A/ML-image/dfs.ipynb#W0sZmlsZQ%3D%3D?line=30'>31</a>\u001b[0m g\u001b[39m.\u001b[39;49mdfs(\u001b[39m1\u001b[39;49m)\n",
      "\u001b[1;32ma:\\ML-image\\dfs.ipynb Cell 1\u001b[0m line \u001b[0;36m1\n\u001b[0;32m     <a href='vscode-notebook-cell:/a%3A/ML-image/dfs.ipynb#W0sZmlsZQ%3D%3D?line=16'>17</a>\u001b[0m \u001b[39mfor\u001b[39;00m neighbor \u001b[39min\u001b[39;00m \u001b[39mself\u001b[39m\u001b[39m.\u001b[39mgraph[start]:\n\u001b[0;32m     <a href='vscode-notebook-cell:/a%3A/ML-image/dfs.ipynb#W0sZmlsZQ%3D%3D?line=17'>18</a>\u001b[0m     \u001b[39mif\u001b[39;00m neighbor \u001b[39mnot\u001b[39;00m \u001b[39min\u001b[39;00m visited:\n\u001b[1;32m---> <a href='vscode-notebook-cell:/a%3A/ML-image/dfs.ipynb#W0sZmlsZQ%3D%3D?line=18'>19</a>\u001b[0m         \u001b[39mself\u001b[39;49m\u001b[39m.\u001b[39;49mdfs(neighbor, visited)\n",
      "\u001b[1;32ma:\\ML-image\\dfs.ipynb Cell 1\u001b[0m line \u001b[0;36m1\n\u001b[0;32m     <a href='vscode-notebook-cell:/a%3A/ML-image/dfs.ipynb#W0sZmlsZQ%3D%3D?line=16'>17</a>\u001b[0m \u001b[39mfor\u001b[39;00m neighbor \u001b[39min\u001b[39;00m \u001b[39mself\u001b[39m\u001b[39m.\u001b[39mgraph[start]:\n\u001b[0;32m     <a href='vscode-notebook-cell:/a%3A/ML-image/dfs.ipynb#W0sZmlsZQ%3D%3D?line=17'>18</a>\u001b[0m     \u001b[39mif\u001b[39;00m neighbor \u001b[39mnot\u001b[39;00m \u001b[39min\u001b[39;00m visited:\n\u001b[1;32m---> <a href='vscode-notebook-cell:/a%3A/ML-image/dfs.ipynb#W0sZmlsZQ%3D%3D?line=18'>19</a>\u001b[0m         \u001b[39mself\u001b[39;49m\u001b[39m.\u001b[39;49mdfs(neighbor, visited)\n",
      "\u001b[1;32ma:\\ML-image\\dfs.ipynb Cell 1\u001b[0m line \u001b[0;36m1\n\u001b[0;32m     <a href='vscode-notebook-cell:/a%3A/ML-image/dfs.ipynb#W0sZmlsZQ%3D%3D?line=13'>14</a>\u001b[0m \u001b[39mprint\u001b[39m(start)\n\u001b[0;32m     <a href='vscode-notebook-cell:/a%3A/ML-image/dfs.ipynb#W0sZmlsZQ%3D%3D?line=14'>15</a>\u001b[0m visited\u001b[39m.\u001b[39madd(start)\n\u001b[1;32m---> <a href='vscode-notebook-cell:/a%3A/ML-image/dfs.ipynb#W0sZmlsZQ%3D%3D?line=16'>17</a>\u001b[0m \u001b[39mfor\u001b[39;00m neighbor \u001b[39min\u001b[39;00m \u001b[39mself\u001b[39;49m\u001b[39m.\u001b[39;49mgraph[start]:\n\u001b[0;32m     <a href='vscode-notebook-cell:/a%3A/ML-image/dfs.ipynb#W0sZmlsZQ%3D%3D?line=17'>18</a>\u001b[0m     \u001b[39mif\u001b[39;00m neighbor \u001b[39mnot\u001b[39;00m \u001b[39min\u001b[39;00m visited:\n\u001b[0;32m     <a href='vscode-notebook-cell:/a%3A/ML-image/dfs.ipynb#W0sZmlsZQ%3D%3D?line=18'>19</a>\u001b[0m         \u001b[39mself\u001b[39m\u001b[39m.\u001b[39mdfs(neighbor, visited)\n",
      "\u001b[1;31mKeyError\u001b[0m: 4"
     ]
    }
   ],
   "source": [
    "class Graph:\n",
    "    def __init__(self):\n",
    "        self.graph = {}\n",
    "\n",
    "    def add_edge(self, node, neighbor):\n",
    "        if node not in self.graph:\n",
    "            self.graph[node] = []\n",
    "        self.graph[node].append(neighbor)\n",
    "\n",
    "    def dfs(self, start, visited=None):\n",
    "        if visited is None:\n",
    "            visited = set()\n",
    "\n",
    "        print(start)\n",
    "        visited.add(start)\n",
    "\n",
    "        for neighbor in self.graph[start]:\n",
    "            if neighbor not in visited:\n",
    "                self.dfs(neighbor, visited)\n",
    "\n",
    "# 예제 그래프 생성\n",
    "g = Graph()\n",
    "g.add_edge(1, 2)\n",
    "g.add_edge(1, 3)\n",
    "g.add_edge(2, 4)\n",
    "g.add_edge(2, 5)\n",
    "g.add_edge(3, 6)\n",
    "\n",
    "# DFS 시작\n",
    "print(\"DFS traversal starting from node 1:\")\n",
    "g.dfs(1)\n"
   ]
  }
 ],
 "metadata": {
  "kernelspec": {
   "display_name": "base",
   "language": "python",
   "name": "python3"
  },
  "language_info": {
   "codemirror_mode": {
    "name": "ipython",
    "version": 3
   },
   "file_extension": ".py",
   "mimetype": "text/x-python",
   "name": "python",
   "nbconvert_exporter": "python",
   "pygments_lexer": "ipython3",
   "version": "3.10.9"
  }
 },
 "nbformat": 4,
 "nbformat_minor": 2
}
